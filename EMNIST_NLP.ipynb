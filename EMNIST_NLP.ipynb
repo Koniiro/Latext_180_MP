{
 "cells": [
  {
   "cell_type": "markdown",
   "metadata": {
    "id": "LHCCGutqrj-r"
   },
   "source": [
    "# ⚙️ Imports and Setups"
   ]
  },
  {
   "cell_type": "code",
   "execution_count": 10,
   "metadata": {
    "colab": {
     "base_uri": "https://localhost:8080/"
    },
    "id": "qiFYfrVpXbAP",
    "outputId": "620dcba0-66f4-428d-e265-17fd20fa8247"
   },
   "outputs": [
    {
     "name": "stdout",
     "output_type": "stream",
     "text": [
      "Tue Jun  7 18:31:32 2022       \n",
      "+-----------------------------------------------------------------------------+\n",
      "| NVIDIA-SMI 497.29       Driver Version: 497.29       CUDA Version: 11.5     |\n",
      "|-------------------------------+----------------------+----------------------+\n",
      "| GPU  Name            TCC/WDDM | Bus-Id        Disp.A | Volatile Uncorr. ECC |\n",
      "| Fan  Temp  Perf  Pwr:Usage/Cap|         Memory-Usage | GPU-Util  Compute M. |\n",
      "|                               |                      |               MIG M. |\n",
      "|===============================+======================+======================|\n",
      "|   0  NVIDIA GeForce ... WDDM  | 00000000:01:00.0 Off |                  N/A |\n",
      "| N/A   52C    P8     6W /  N/A |    134MiB /  4096MiB |      0%      Default |\n",
      "|                               |                      |                  N/A |\n",
      "+-------------------------------+----------------------+----------------------+\n",
      "                                                                               \n",
      "+-----------------------------------------------------------------------------+\n",
      "| Processes:                                                                  |\n",
      "|  GPU   GI   CI        PID   Type   Process name                  GPU Memory |\n",
      "|        ID   ID                                                   Usage      |\n",
      "|=============================================================================|\n",
      "|  No running processes found                                                 |\n",
      "+-----------------------------------------------------------------------------+\n"
     ]
    }
   ],
   "source": [
    "!nvidia-smi"
   ]
  },
  {
   "cell_type": "code",
   "execution_count": 11,
   "metadata": {
    "colab": {
     "base_uri": "https://localhost:8080/"
    },
    "id": "eGY8OiyGpN-x",
    "outputId": "f9c3a1e5-0e1a-40a7-86de-e99b497c304a"
   },
   "outputs": [
    {
     "name": "stdout",
     "output_type": "stream",
     "text": [
      "2.9.1\n"
     ]
    }
   ],
   "source": [
    "import tensorflow as tf\n",
    "print(tf.__version__)\n",
    "\n",
    "from tensorflow.keras.layers import *\n",
    "from tensorflow.keras.models import *\n",
    "import tensorflow_datasets as tfds\n",
    "\n",
    "import numpy as np\n",
    "import matplotlib.pyplot as plt\n",
    "\n",
    "%matplotlib inline\n",
    "tfds.disable_progress_bar()\n",
    "\n",
    "import csv\n",
    "import string\n",
    "import pathlib\n",
    "import gzip\n",
    "from tqdm import tqdm\n",
    "import seaborn as sns\n",
    "from itertools import groupby\n",
    "\n",
    "from sklearn.utils import shuffle"
   ]
  },
  {
   "cell_type": "markdown",
   "metadata": {
    "id": "p9VJbZx9g9Uz"
   },
   "source": [
    "# ♣️ Download Datasets"
   ]
  },
  {
   "cell_type": "markdown",
   "metadata": {
    "id": "WHw1hCpYg_1R"
   },
   "source": [
    "#### ✔️ Wiki-split dataset"
   ]
  },
  {
   "cell_type": "code",
   "execution_count": 12,
   "metadata": {
    "colab": {
     "base_uri": "https://localhost:8080/"
    },
    "id": "4SOyIXEHnI4p",
    "outputId": "acd3dd12-6f79-4fa1-e421-d149a5a8a2bf"
   },
   "outputs": [
    {
     "name": "stderr",
     "output_type": "stream",
     "text": [
      "fatal: destination path 'wiki-split' already exists and is not an empty directory.\n"
     ]
    }
   ],
   "source": [
    "!git clone https://github.com/google-research-datasets/wiki-split"
   ]
  },
  {
   "cell_type": "markdown",
   "metadata": {
    "id": "Ewq14NyxhId2"
   },
   "source": [
    "> Side Note: We will be using `test.tsv` for our experiment to speed up the process."
   ]
  },
  {
   "cell_type": "markdown",
   "metadata": {
    "id": "gcRbRClXjBq1"
   },
   "source": [
    "#### ✔️ EMNIST/Bymerge Dataset"
   ]
  },
  {
   "cell_type": "code",
   "execution_count": 13,
   "metadata": {
    "colab": {
     "base_uri": "https://localhost:8080/"
    },
    "id": "0qrzBv-XjFiQ",
    "outputId": "68c34290-0122-4494-c8b7-dd2b6385ed9b"
   },
   "outputs": [],
   "source": [
    "# Gather EMNIST/bymerge dataset\n",
    "train_ds, validation_ds = tfds.load(\n",
    "    \"emnist/byclass\",\n",
    "    split=[\"train[:85%]\", \"train[85%:]\"],\n",
    "    as_supervised=True\n",
    ")"
   ]
  },
  {
   "cell_type": "markdown",
   "metadata": {
    "id": "8Of-n4NypN_4"
   },
   "source": [
    "# ⚗️ Load Data, Clean it and preprocess"
   ]
  },
  {
   "cell_type": "code",
   "execution_count": 14,
   "metadata": {
    "colab": {
     "base_uri": "https://localhost:8080/"
    },
    "id": "0Av4Db7lpN_8",
    "outputId": "cee1ef04-7ae1-4e95-a076-6b617010b39f"
   },
   "outputs": [
    {
     "name": "stderr",
     "output_type": "stream",
     "text": [
      "5000it [00:00, 192581.25it/s]"
     ]
    },
    {
     "name": "stdout",
     "output_type": "stream",
     "text": [
      "Total Sentences:  10000\n"
     ]
    },
    {
     "name": "stderr",
     "output_type": "stream",
     "text": [
      "\n"
     ]
    }
   ],
   "source": [
    "raw_sentences = []  # empty list to store sentences\n",
    "with open(\"wiki-split/test.tsv\", \"r\", encoding=\"utf8\") as f:\n",
    "    reader = csv.reader(f, delimiter='\\t')  # read a tsv file\n",
    "    for row in tqdm(reader):\n",
    "        raw_sentences.extend(row[1].split(\"<::::>\"))\n",
    "print(\"Total Sentences: \", len(raw_sentences))"
   ]
  },
  {
   "cell_type": "code",
   "execution_count": 15,
   "metadata": {
    "colab": {
     "base_uri": "https://localhost:8080/"
    },
    "id": "0C-5foj6pOAN",
    "outputId": "8c7dd611-ed03-4f8f-f41f-9893c711e374"
   },
   "outputs": [
    {
     "name": "stdout",
     "output_type": "stream",
     "text": [
      " He was was arrested and booked on charges of first - degree murder and first - degree robbery . \n",
      " A 2006 estimate by the International Organization for Migration put the number of Sudanese people in the UK at a much higher figure . \n"
     ]
    }
   ],
   "source": [
    "# Some samples\n",
    "print(raw_sentences[99], '\\n', raw_sentences[100])"
   ]
  },
  {
   "cell_type": "markdown",
   "metadata": {
    "id": "mIPqzykIkXxd"
   },
   "source": [
    "#### ✔️ Remove punctuations"
   ]
  },
  {
   "cell_type": "code",
   "execution_count": 16,
   "metadata": {
    "colab": {
     "base_uri": "https://localhost:8080/"
    },
    "id": "-HtS5z3MpOAe",
    "outputId": "1ee54628-fc65-487a-db15-d373d6d27db0"
   },
   "outputs": [
    {
     "name": "stdout",
     "output_type": "stream",
     "text": [
      "He was was arrested and booked on charges of first degree murder and first degree robbery \n",
      "  He was was arrested and booked on charges of first - degree murder and first - degree robbery .\n"
     ]
    }
   ],
   "source": [
    "# As we see there are lots of punctuations which we dont have in EMNIST, so we are going to remove them, \n",
    "# and replace multiple spaces with one\n",
    "import re\n",
    "\n",
    "sentences = []\n",
    "table = str.maketrans({key: None for key in string.punctuation})  # translation table\n",
    "\n",
    "for sentence in raw_sentences:\n",
    "    # remove punctuation and non-ascii characters\n",
    "    clean_sentence = re.sub('  +', ' ', sentence.translate(table)).\\\n",
    "                        encode(\"ascii\", 'ignore').decode()  \n",
    "    sentences.append(clean_sentence.strip())  # add to clean sentences\n",
    "    \n",
    "print(sentences[99], '\\n', raw_sentences[99])  # to verify"
   ]
  },
  {
   "cell_type": "code",
   "execution_count": 17,
   "metadata": {
    "colab": {
     "base_uri": "https://localhost:8080/"
    },
    "id": "4DxGdQ087p1V",
    "outputId": "8c77bf94-a46d-4a9b-e1cc-72a6ff67bed1"
   },
   "outputs": [
    {
     "name": "stdout",
     "output_type": "stream",
     "text": [
      "Number of sentences 10000\n"
     ]
    }
   ],
   "source": [
    "print('Number of sentences', len(sentences))"
   ]
  },
  {
   "cell_type": "markdown",
   "metadata": {
    "id": "lwUb0KtemeK3"
   },
   "source": [
    "#### ✔️ EMNIST Labels"
   ]
  },
  {
   "cell_type": "code",
   "execution_count": 18,
   "metadata": {
    "colab": {
     "base_uri": "https://localhost:8080/"
    },
    "id": "oSXgQqsOEF38",
    "outputId": "5cc0a4a2-2976-4c07-8059-15b89341cd5a"
   },
   "outputs": [
    {
     "name": "stdout",
     "output_type": "stream",
     "text": [
      "47\n"
     ]
    }
   ],
   "source": [
    "MAPPINGS = ['0', '1', '2', '3', '4', '5', '6', '7', '8', '9', \n",
    "          'A', 'B', 'C', 'D', 'E', 'F', 'G', 'H', 'I', 'J', 'K', 'L', 'M', 'N', 'O', 'P', 'Q', 'R', 'S', 'T', 'U', 'V', 'W', 'X', 'Y', 'Z',\n",
    "          'a', 'b', 'd', 'e', 'f', 'g', 'h', 'n', 'q', 'r', 't']\n",
    "\n",
    "print(len(MAPPINGS))"
   ]
  },
  {
   "cell_type": "markdown",
   "metadata": {
    "id": "USfu5WfonDPZ"
   },
   "source": [
    "#### ✔️ Dataloader for EMNIST"
   ]
  },
  {
   "cell_type": "code",
   "execution_count": 19,
   "metadata": {
    "id": "WE7sVKVPEJzK"
   },
   "outputs": [],
   "source": [
    "AUTO = tf.data.experimental.AUTOTUNE\n",
    "BATCH_SIZE = 256\n",
    "\n",
    "## We are transposing to rotate the image by 90 deg clockwise making the images human friendly.\n",
    "def transpose(image, label):\n",
    "  image = tf.image.convert_image_dtype(image, dtype=tf.float32) # scale image pixels to [0,1]\n",
    "  image = tf.transpose(image, [1,0,2]) # transpose to get human friendly image, since rotation\n",
    "  return image, label\n",
    "\n",
    "trainloader = (\n",
    "    train_ds\n",
    "    .shuffle(1024)\n",
    "    .map(transpose, num_parallel_calls=AUTO)\n",
    "    .prefetch(AUTO)\n",
    ")"
   ]
  },
  {
   "cell_type": "code",
   "execution_count": 22,
   "metadata": {
    "colab": {
     "base_uri": "https://localhost:8080/",
     "height": 591
    },
    "id": "Exo6ceZ1EJv0",
    "outputId": "b3501978-ad19-46ca-cf94-d04ee42df89c"
   },
   "outputs": [
    {
     "ename": "IndexError",
     "evalue": "list index out of range",
     "output_type": "error",
     "traceback": [
      "\u001b[1;31m---------------------------------------------------------------------------\u001b[0m",
      "\u001b[1;31mIndexError\u001b[0m                                Traceback (most recent call last)",
      "Input \u001b[1;32mIn [22]\u001b[0m, in \u001b[0;36m<cell line: 3>\u001b[1;34m()\u001b[0m\n\u001b[0;32m      4\u001b[0m ax \u001b[38;5;241m=\u001b[39m plt\u001b[38;5;241m.\u001b[39msubplot(\u001b[38;5;241m5\u001b[39m, \u001b[38;5;241m5\u001b[39m, n\u001b[38;5;241m+\u001b[39m\u001b[38;5;241m1\u001b[39m)\n\u001b[0;32m      5\u001b[0m plt\u001b[38;5;241m.\u001b[39mimshow(tf\u001b[38;5;241m.\u001b[39mreshape(img, (\u001b[38;5;241m28\u001b[39m,\u001b[38;5;241m28\u001b[39m)), cmap\u001b[38;5;241m=\u001b[39m\u001b[38;5;124m'\u001b[39m\u001b[38;5;124mgray\u001b[39m\u001b[38;5;124m'\u001b[39m)\n\u001b[1;32m----> 6\u001b[0m plt\u001b[38;5;241m.\u001b[39mtitle(\u001b[43mMAPPINGS\u001b[49m\u001b[43m[\u001b[49m\u001b[38;5;28;43mint\u001b[39;49m\u001b[43m(\u001b[49m\u001b[43mlabel\u001b[49m\u001b[38;5;241;43m.\u001b[39;49m\u001b[43mnumpy\u001b[49m\u001b[43m(\u001b[49m\u001b[43m)\u001b[49m\u001b[43m)\u001b[49m\u001b[43m]\u001b[49m)\n\u001b[0;32m      7\u001b[0m plt\u001b[38;5;241m.\u001b[39maxis(\u001b[38;5;124m'\u001b[39m\u001b[38;5;124moff\u001b[39m\u001b[38;5;124m'\u001b[39m)\n\u001b[0;32m      8\u001b[0m n\u001b[38;5;241m+\u001b[39m\u001b[38;5;241m=\u001b[39m\u001b[38;5;241m1\u001b[39m\n",
      "\u001b[1;31mIndexError\u001b[0m: list index out of range"
     ]
    },
    {
     "data": {
      "image/png": "[encoded data removed]",
      "text/plain": [
       "<Figure size 720x720 with 11 Axes>"
      ]
     },
     "metadata": {
      "needs_background": "light"
     },
     "output_type": "display_data"
    }
   ],
   "source": [
    "plt.figure(figsize=(10, 10))\n",
    "n = 0\n",
    "for img, label in trainloader.take(25):\n",
    "    ax = plt.subplot(5, 5, n+1)\n",
    "    plt.imshow(tf.reshape(img, (28,28)), cmap='gray')\n",
    "    plt.title(MAPPINGS[int(label.numpy())])\n",
    "    plt.axis('off')\n",
    "    n+=1"
   ]
  },
  {
   "cell_type": "markdown",
   "metadata": {
    "id": "TiVoXehQnsOB"
   },
   "source": [
    "#### ✔️ Get all the images in an array"
   ]
  },
  {
   "cell_type": "code",
   "execution_count": null,
   "metadata": {
    "colab": {
     "base_uri": "https://localhost:8080/"
    },
    "id": "3BZDQWDjRlXv",
    "outputId": "6c678df4-123e-4e01-b215-6a323c14d907"
   },
   "outputs": [],
   "source": [
    "IMAGES = []\n",
    "LABELS = []\n",
    "\n",
    "for img, label in tqdm(trainloader):\n",
    "    IMAGES.append(tf.reshape(img, (28,28)).numpy())\n",
    "    LABELS.append(label.numpy())\n",
    "\n",
    "IMAGES = np.array(IMAGES)\n",
    "LABELS = np.array(LABELS)"
   ]
  },
  {
   "cell_type": "markdown",
   "metadata": {
    "id": "75WCj0tmqIwo"
   },
   "source": [
    "#### ✔️ Index Images"
   ]
  },
  {
   "cell_type": "code",
   "execution_count": null,
   "metadata": {
    "id": "Th2nVHDvVYiG"
   },
   "outputs": [],
   "source": [
    "image_index = {}  # where key is the char and value is a list of IDs\n",
    "for idx, label in tqdm(enumerate(LABELS)):\n",
    "    char = MAPPINGS[label]\n",
    "    if char in image_index:\n",
    "        # this character already exists\n",
    "        image_index[char].append(idx) # append index\n",
    "    else:\n",
    "        image_index[char] = [idx]  # initiate list with 1 item"
   ]
  },
  {
   "cell_type": "markdown",
   "metadata": {
    "id": "jMWtqzPdqbO_"
   },
   "source": [
    "# 🎵 Utils to generate image from text"
   ]
  },
  {
   "cell_type": "code",
   "execution_count": null,
   "metadata": {
    "id": "A0bAc0kPXf9j"
   },
   "outputs": [],
   "source": [
    "def get_sample_sentences(sentences_in=sentences, num_sentence=10):\n",
    "    # Get a defined number of sentences from the data\n",
    "    return np.random.choice(sentences_in, num_sentence)\n",
    "\n",
    "def get_generated_image(words, chars=IMAGES, index=image_index):\n",
    "    # words is string of char/numbers that needs to be converted into an image\n",
    "    # chars is a data set of images that need to be used to compose, usually pass in train['features'] in here\n",
    "    # index maps a character to indexes in the images, available as dictionary\n",
    "    height, width = IMAGES[0].shape # height and width of each character\n",
    "    length = len(words) # total number of characters in the image\n",
    "    \n",
    "    # create an empty array to store the data\n",
    "    image = np.zeros((height, width * length))\n",
    "    pos = 0  # starting index of the character\n",
    "    \n",
    "    for char in words:\n",
    "        if char is ' ':\n",
    "            pos += width # if space, move over\n",
    "        else:\n",
    "            if char in image_index:\n",
    "                # pick a random item from all images for that char\n",
    "                idx = np.random.choice(image_index[char])  \n",
    "                image[:, pos:(pos+width)] += chars[idx]\n",
    "            elif char.upper() in image_index:  # to remove characters from other languages\n",
    "                # for some characters, there is only upper case\n",
    "                idx = np.random.choice(image_index[char.upper()])  \n",
    "                image[:, pos:(pos+width)] += chars[idx]\n",
    "            \n",
    "            pos += width\n",
    "    \n",
    "    return image"
   ]
  },
  {
   "cell_type": "markdown",
   "metadata": {
    "id": "ASm9g8-_qsFR"
   },
   "source": [
    "#### ✔️ Check one sample"
   ]
  },
  {
   "cell_type": "code",
   "execution_count": null,
   "metadata": {
    "id": "9buIC1YVX1g4"
   },
   "outputs": [],
   "source": [
    "# Let's print a sample to see how it looks\n",
    "s = get_sample_sentences(sentences, 1)\n",
    "print(s)\n",
    "img = get_generated_image(s[0])\n",
    "plt.figure(figsize=(9,2))\n",
    "plt.imshow(img, cmap='gray')\n",
    "plt.show()"
   ]
  },
  {
   "cell_type": "markdown",
   "metadata": {
    "id": "7EzTHffnrEo4"
   },
   "source": [
    "# ⛵ Build Training Dataset"
   ]
  },
  {
   "cell_type": "code",
   "execution_count": null,
   "metadata": {
    "id": "1IEJhTF3YEg4"
   },
   "outputs": [],
   "source": [
    "train_sentences = sentences[:2000]\n",
    "test_sentences = sentences[2000:2500]\n",
    "\n",
    "# Lets assume that for each training sample, 2 variants will be generated\n",
    "\n",
    "def generate_sentences(texts, chars, \n",
    "                           index, num_variants=2, max_length=32):\n",
    "    # this method takes input text lines, character samples and labels\n",
    "    # and generates images. It can generate multiple images per sentence\n",
    "    # as controlled by num_variants parameter. max_length parameter\n",
    "    # ensures that all sentences are the same length\n",
    "    \n",
    "    # total number of samples to generate\n",
    "    num_samples = len(texts) * num_variants\n",
    "    height, width = chars[0].shape  # shape of image\n",
    "    \n",
    "    # setup empty array of the images\n",
    "    images = np.zeros((num_samples, height, width * max_length), np.float64)\n",
    "    labels = []\n",
    "    \n",
    "    for i, item in tqdm(enumerate(texts)):\n",
    "        padded_item = item[0:max_length] if (len(item) > max_length) else item.ljust(max_length, ' ')\n",
    "        \n",
    "        for v in range(num_variants):\n",
    "            img = get_generated_image(padded_item, chars, index)\n",
    "            images[i*num_variants+v, :, :] += img\n",
    "            labels.append(padded_item)\n",
    "    \n",
    "    return images, labels"
   ]
  },
  {
   "cell_type": "code",
   "execution_count": null,
   "metadata": {
    "id": "317adGptYcs5"
   },
   "outputs": [],
   "source": [
    "train_images, train_labels = generate_sentences(train_sentences, IMAGES, image_index)\n",
    "test_images, test_labels = generate_sentences(test_sentences, IMAGES, image_index)\n",
    "\n",
    "train_images, train_labels = shuffle(train_images, train_labels)\n",
    "test_images, test_labels = shuffle(test_images, test_labels)"
   ]
  },
  {
   "cell_type": "markdown",
   "metadata": {
    "id": "jgEJHI4CsUvY"
   },
   "source": [
    "#### ✔️ Check one sample"
   ]
  },
  {
   "cell_type": "code",
   "execution_count": null,
   "metadata": {
    "id": "FZvWNvk4Y1z_"
   },
   "outputs": [],
   "source": [
    "# Sample some to check\n",
    "idx=0\n",
    "print(train_labels[idx])\n",
    "plt.figure(figsize=(9,2))\n",
    "plt.imshow(train_images[idx], cmap='gray');\n",
    "plt.show()"
   ]
  },
  {
   "cell_type": "markdown",
   "metadata": {
    "id": "VmgFAVAFr_1u"
   },
   "source": [
    "#### ✔️ Save Dataset"
   ]
  },
  {
   "cell_type": "code",
   "execution_count": null,
   "metadata": {
    "id": "qiEyviXGa32C"
   },
   "outputs": [],
   "source": [
    "# Now to save these models for easy loading\n",
    "pp = pathlib.Path('.') / 'sentences'\n",
    "pp.mkdir(exist_ok=True)  # create the directory\n",
    "\n",
    "np.save(pp / 'train_images', train_images)\n",
    "np.save(pp / 'test_images', test_images)\n",
    "np.save(pp / 'train_labels', train_labels)\n",
    "np.save(pp / 'test_labels', test_labels)"
   ]
  },
  {
   "cell_type": "markdown",
   "metadata": {
    "id": "j8kQvdfl-Ox1"
   },
   "source": [
    "# 🐋 Prepare Training Dataset(Label)"
   ]
  },
  {
   "cell_type": "code",
   "execution_count": null,
   "metadata": {
    "id": "qDw__t1Jlk-8"
   },
   "outputs": [],
   "source": [
    "# create a dictionary of mapping from \n",
    "mappings = dict(zip(np.arange(0, 47), MAPPINGS))\n",
    "# add a space for spacing words\n",
    "mappings[47] = ' '\n",
    "# inverse: character as key and value as it's integer encoding\n",
    "inverse_mappings = {v: k for k, v in mappings.items()}"
   ]
  },
  {
   "cell_type": "code",
   "execution_count": null,
   "metadata": {
    "id": "SxCE4CgilaPA"
   },
   "outputs": [],
   "source": [
    "# now convert categorical labels from the sentences\n",
    "encode = lambda x: [inverse_mappings[xi] if xi in inverse_mappings else inverse_mappings[xi.upper()] for xi in x]\n",
    "decode = lambda x: [mappings[xi] for xi in x]\n",
    "\n",
    "train_labels_cat = np.array([encode(xi) for xi in train_labels])\n",
    "test_labels_cat = np.array([encode(xi) for xi in test_labels])\n",
    "\n",
    "# Verify the encoding/decoding\n",
    "print(train_labels[1])\n",
    "print(train_labels_cat.shape, train_labels_cat[1])\n",
    "print(decode(train_labels_cat[1]))"
   ]
  },
  {
   "cell_type": "markdown",
   "metadata": {
    "id": "195rY50uPhrw"
   },
   "source": [
    "# 🐲 Build Train and Test Loader\n",
    "\n",
    "Using `tf.data`"
   ]
  },
  {
   "cell_type": "code",
   "execution_count": null,
   "metadata": {
    "id": "VKNx2nN4Pqcc"
   },
   "outputs": [],
   "source": [
    "AUTO = tf.data.experimental.AUTOTUNE\n",
    "BATCH_SIZE = 64\n",
    "\n",
    "# This step will make sense after looking at the model\n",
    "def merge_image_label(image, label):\n",
    "    return (image, label), label\n",
    "\n",
    "trainloader = tf.data.Dataset.from_tensor_slices((train_images, train_labels_cat))\n",
    "testloader = tf.data.Dataset.from_tensor_slices((test_images, test_labels_cat))\n",
    "\n",
    "trainloader = (\n",
    "    trainloader\n",
    "    .shuffle(1024)\n",
    "    .map(merge_image_label, num_parallel_calls=AUTO)\n",
    "    .batch(BATCH_SIZE)\n",
    "    .prefetch(AUTO)\n",
    ")\n",
    "\n",
    "testloader = (\n",
    "    testloader\n",
    "    .map(merge_image_label, num_parallel_calls=AUTO)\n",
    "    .batch(BATCH_SIZE)\n",
    "    .prefetch(AUTO)\n",
    ")"
   ]
  },
  {
   "cell_type": "markdown",
   "metadata": {
    "id": "xg-LdXSDsbPs"
   },
   "source": [
    "# 💎 Build Model"
   ]
  },
  {
   "cell_type": "code",
   "execution_count": null,
   "metadata": {
    "id": "5fdP1t6zuU73"
   },
   "outputs": [],
   "source": [
    "# CNN definition : LeNet5 architecture, a classic architecture\n",
    "IMG_H, IMG_W = train_images[1].shape\n",
    "# we limited output sentences to 32 chars\n",
    "OUTPUT_LENGTH = 32  \n",
    "# EMNIST has 47 labels, adding one for 'blank space'\n",
    "NUM_CLASSES = 49 # notice two additional class; one is for \"space\" another is required by \"CTCLayer\""
   ]
  },
  {
   "cell_type": "markdown",
   "metadata": {
    "id": "XNeF-P0gsit7"
   },
   "source": [
    "#### ✔️ Utility to Extract Patch\n",
    "\n",
    "Since each image is a sentence, we will extract patches from it\n",
    "width of each patch will be 20 pixels wide (note EMNIST is 28 px)\n",
    "and every time we will move 14 px over to extract another sample"
   ]
  },
  {
   "cell_type": "code",
   "execution_count": null,
   "metadata": {
    "id": "YfI1fixxumPn"
   },
   "outputs": [],
   "source": [
    "PATCH_WIDTH = 20\n",
    "PATCH_STRIDE = 14"
   ]
  },
  {
   "cell_type": "code",
   "execution_count": null,
   "metadata": {
    "id": "RExyW0Opi_g_"
   },
   "outputs": [],
   "source": [
    "def extract_patches(image):\n",
    "    kernel = [1, 1, PATCH_WIDTH, 1]\n",
    "    strides = [1, 1, PATCH_STRIDE, 1]\n",
    "    patches = tf.image.extract_patches(image, kernel, strides, [1, 1, 1, 1], 'VALID')\n",
    "    patches = tf.transpose(patches, (0, 2, 1, 3))\n",
    "    patches = tf.expand_dims(patches, -1)\n",
    "    return patches"
   ]
  },
  {
   "cell_type": "markdown",
   "metadata": {
    "id": "wmjDDWLfHWyJ"
   },
   "source": [
    "#### ✔️ CNN backbone\n",
    "\n",
    "* Takes in a patch of image\n",
    "* Returned flattened embedding"
   ]
  },
  {
   "cell_type": "code",
   "execution_count": null,
   "metadata": {
    "id": "Ra0ehhwMG3FF"
   },
   "outputs": [],
   "source": [
    "def ImagePatchEncoder():\n",
    "  patched_inputs = Input(shape=(IMG_H, PATCH_WIDTH, 1))\n",
    "  x = Conv2D(32, kernel_size=(3, 3), activation='relu')(patched_inputs)\n",
    "  x = Conv2D(64, kernel_size=(3, 3), activation='relu')(x)\n",
    "  x = MaxPooling2D(pool_size=(2, 2))(x)\n",
    "  x = Dropout(0.2)(x)\n",
    "  flattened_outputs = Flatten()(x)\n",
    "\n",
    "  return Model(inputs=patched_inputs, outputs=flattened_outputs, name='backbone')\n",
    "\n",
    "tf.keras.backend.clear_session()\n",
    "image_patch_encoder = ImagePatchEncoder()\n",
    "image_patch_encoder.summary()"
   ]
  },
  {
   "cell_type": "markdown",
   "metadata": {
    "id": "ezbWeXARO_C0"
   },
   "source": [
    "#### ✔️ CTC Loss Layer\n",
    "\n",
    "You can learn more about CTC Loss in this [awesome blog post](https://app.wandb.ai/authors/text-recognition-crnn-ctc/reports/Text-Recognition-with-CRNN-CTC-Network--VmlldzoxNTI5NDI)."
   ]
  },
  {
   "cell_type": "code",
   "execution_count": null,
   "metadata": {
    "id": "MzyiMxNoH_vt"
   },
   "outputs": [],
   "source": [
    "## Ref: https://keras.io/examples/vision/captcha_ocr/\n",
    "class CTCLayer(Layer):\n",
    "  def __init__(self, name=None):\n",
    "\n",
    "      super().__init__(name=name)\n",
    "      self.loss_fn = tf.keras.backend.ctc_batch_cost\n",
    "\n",
    "  def call(self, y_true, y_pred):\n",
    "      # Compute the training-time loss value and add it\n",
    "      # to the layer using `self.add_loss()`.\n",
    "\n",
    "      batch_len = tf.cast(tf.shape(y_true)[0], dtype=\"int64\")\n",
    "      input_length = tf.cast(tf.shape(y_pred)[1], dtype=\"int64\")\n",
    "      label_length = tf.cast(tf.shape(y_true)[1], dtype=\"int64\")\n",
    "\n",
    "      input_length = input_length * tf.ones(shape=(batch_len, 1), dtype=\"int64\")\n",
    "      label_length = label_length * tf.ones(shape=(batch_len, 1), dtype=\"int64\")\n",
    "\n",
    "      loss = self.loss_fn(y_true, y_pred, input_length, label_length)\n",
    "      self.add_loss(loss)\n",
    "\n",
    "      # At test time, just return the computed predictions\n",
    "      return y_pred\n",
    "      "
   ]
  },
  {
   "cell_type": "markdown",
   "metadata": {
    "id": "Uun36GxI9G6V"
   },
   "source": [
    "#### ✔️ Final Model\n",
    "\n",
    "##### Image Encoder\n",
    "\n",
    "* Take in image input\n",
    "* Get patches of shape `(PATCH_HEIGHT, PATCH_WIDTH, 1)`.\n",
    "* Feed patches to backbone CNN architecture to get embedding. \n",
    "* Wrap using `TimeDistributed`\n",
    "\n",
    "\n",
    "##### Recurrent Network\n",
    "\n",
    "* Takes in `TimeDistributed` sequence\n",
    "* Computes output"
   ]
  },
  {
   "cell_type": "code",
   "execution_count": null,
   "metadata": {
    "id": "2tJu9Yn5NNIt"
   },
   "outputs": [],
   "source": [
    "def ImagetoSequence():\n",
    "  # IMAGE ENCODER #\n",
    "  labels = Input(name=\"label\", shape=(None,), dtype=\"float32\")\n",
    "  image_input = Input(shape=(IMG_H, IMG_W), name=\"cnn_input\")\n",
    "  # reshape to add dimensions\n",
    "  image_reshaped = Reshape((IMG_H, IMG_W, 1))(image_input)\n",
    "  # extract patches of images\n",
    "  image_patches = Lambda(extract_patches)(image_reshaped)\n",
    "  # get CNN backbone architecture to get embedding for each patch\n",
    "  image_patch_encoder = ImagePatchEncoder()\n",
    "  # Wrapper allows to apply a layer to every temporal slice of an input.\n",
    "  time_wrapper = TimeDistributed(image_patch_encoder)(image_patches)\n",
    "\n",
    "  # RECURRENT NETWORK #\n",
    "  lstm_out = LSTM(128, return_sequences=True, name=\"lstm\")(time_wrapper)\n",
    "  softmax_output = Dense(NUM_CLASSES, activation='softmax', name=\"lstm_softmax\")(lstm_out)\n",
    "  # \n",
    "  output = CTCLayer(name=\"ctc_loss\")(labels, softmax_output)\n",
    "\n",
    "  return Model([image_input, labels], output)"
   ]
  },
  {
   "cell_type": "markdown",
   "metadata": {
    "id": "AFEYPgl3Qihf"
   },
   "source": [
    "# 🐧 Initialize Model"
   ]
  },
  {
   "cell_type": "code",
   "execution_count": null,
   "metadata": {
    "id": "WFnnEeoKIrYC"
   },
   "outputs": [],
   "source": [
    "tf.keras.backend.clear_session()\n",
    "model = ImagetoSequence()\n",
    "model.summary()"
   ]
  },
  {
   "cell_type": "markdown",
   "metadata": {
    "id": "asdJgVutPOsD"
   },
   "source": [
    "# 🐢 Compile Model"
   ]
  },
  {
   "cell_type": "code",
   "execution_count": null,
   "metadata": {
    "id": "LAuhDm8jm-Vg"
   },
   "outputs": [],
   "source": [
    "# compile the models\n",
    "model.compile(tf.keras.optimizers.Adam())"
   ]
  },
  {
   "cell_type": "markdown",
   "metadata": {
    "id": "QeR-dUwePUEf"
   },
   "source": [
    "# 🚋 Train Model with W&B"
   ]
  },
  {
   "cell_type": "code",
   "execution_count": null,
   "metadata": {
    "id": "ueJ3cunufae5"
   },
   "outputs": [],
   "source": [
    "early_stopper = tf.keras.callbacks.EarlyStopping(\n",
    "    monitor='val_loss', min_delta=0, patience=10, verbose=0, mode='auto', restore_best_weights=True)"
   ]
  },
  {
   "cell_type": "code",
   "execution_count": null,
   "metadata": {
    "id": "u4mQQ7i5nRU5"
   },
   "outputs": [],
   "source": [
    "wandb.init(project='emnist-nlp')\n",
    "\n",
    "_ = model.fit(trainloader,  \n",
    "                    validation_data=testloader,\n",
    "                    epochs=100,\n",
    "                    callbacks=[WandbCallback(),\n",
    "                               early_stopper])"
   ]
  },
  {
   "cell_type": "markdown",
   "metadata": {
    "id": "RbOx_WuMtYem"
   },
   "source": [
    "#### ✔️ Save your hard work"
   ]
  },
  {
   "cell_type": "code",
   "execution_count": null,
   "metadata": {
    "id": "QG6ooSDFfqcE"
   },
   "outputs": [],
   "source": [
    "model.save('emnist-nlp.h5')"
   ]
  },
  {
   "cell_type": "markdown",
   "metadata": {
    "id": "UngLxdFvtiXt"
   },
   "source": [
    "# 👀 Prediction"
   ]
  },
  {
   "cell_type": "markdown",
   "metadata": {
    "id": "Veszg_ejudSQ"
   },
   "source": [
    "#### ✔️ Simplify Model for Inference"
   ]
  },
  {
   "cell_type": "code",
   "execution_count": null,
   "metadata": {
    "id": "RwpYiNI_uf-i"
   },
   "outputs": [],
   "source": [
    "# notice we are removing CTCLayer\n",
    "inference_model = Model(model.get_layer('cnn_input').input, model.get_layer('lstm_softmax').output)\n",
    "inference_model.summary()"
   ]
  },
  {
   "cell_type": "markdown",
   "metadata": {
    "id": "dBZC4UPhwQKg"
   },
   "source": [
    "#### ✔️ Get Predictions"
   ]
  },
  {
   "cell_type": "code",
   "execution_count": null,
   "metadata": {
    "id": "vFyStXxLvI5X"
   },
   "outputs": [],
   "source": [
    "(val_images, val_labels), _ = next(iter(testloader))"
   ]
  },
  {
   "cell_type": "code",
   "execution_count": null,
   "metadata": {
    "id": "SMQt-H77wwH9"
   },
   "outputs": [],
   "source": [
    "def get_prediction(val_images, val_labels):\n",
    "    # get prediction probability \n",
    "    predictions = inference_model.predict(val_images)\n",
    "    # get argmax\n",
    "    pred_indices = np.argmax(predictions, axis=2)\n",
    "    \n",
    "    actual_text_list = []\n",
    "    pred_text_list = []\n",
    "\n",
    "    for i in range(val_images.shape[0]):\n",
    "        ans = \"\"\n",
    "        pred_ans = \"\"\n",
    "\n",
    "        # get actual text\n",
    "        for p in val_labels[i].numpy():\n",
    "            if p in mappings.keys():\n",
    "              ans+=mappings[p]\n",
    "\n",
    "        # get predicted text from image\n",
    "        merged_list = [k for k,_ in groupby(pred_indices[i])]\n",
    "        for p in merged_list:\n",
    "            if p in mappings.keys():\n",
    "              pred_ans+=mappings[p]\n",
    "\n",
    "        actual_text_list.append(ans)\n",
    "        pred_text_list.append(pred_ans)\n",
    "\n",
    "    return actual_text_list, pred_text_list"
   ]
  },
  {
   "cell_type": "code",
   "execution_count": null,
   "metadata": {
    "id": "7k2LlgTP1TuI"
   },
   "outputs": [],
   "source": [
    "actual_text, predicted_text = get_prediction(val_images, val_labels)"
   ]
  },
  {
   "cell_type": "code",
   "execution_count": null,
   "metadata": {
    "id": "3NfaOBJ6Yiub"
   },
   "outputs": [],
   "source": [
    "table = wandb.Table(columns=[\"Actual Text\", \"Predicted Text\"])\n",
    "for act_text, pred_text in zip(actual_text, predicted_text):\n",
    "    table.add_data(act_text, pred_text)\n",
    "\n",
    "wandb.log({\"emnist-nlp\": table})"
   ]
  },
  {
   "cell_type": "code",
   "execution_count": 21,
   "metadata": {
    "id": "wzSdAkt4d_xB"
   },
   "outputs": [
    {
     "ename": "NameError",
     "evalue": "name 'wandb' is not defined",
     "output_type": "error",
     "traceback": [
      "\u001b[1;31m---------------------------------------------------------------------------\u001b[0m",
      "\u001b[1;31mNameError\u001b[0m                                 Traceback (most recent call last)",
      "Input \u001b[1;32mIn [21]\u001b[0m, in \u001b[0;36m<cell line: 1>\u001b[1;34m()\u001b[0m\n\u001b[1;32m----> 1\u001b[0m \u001b[43mwandb\u001b[49m\u001b[38;5;241m.\u001b[39mlog({\u001b[38;5;124m\"\u001b[39m\u001b[38;5;124mimages\u001b[39m\u001b[38;5;124m\"\u001b[39m: [wandb\u001b[38;5;241m.\u001b[39mImage(np\u001b[38;5;241m.\u001b[39mexpand_dims(image, axis\u001b[38;5;241m=\u001b[39m\u001b[38;5;241m2\u001b[39m))\n\u001b[0;32m      2\u001b[0m                             \u001b[38;5;28;01mfor\u001b[39;00m image \u001b[38;5;129;01min\u001b[39;00m val_images]})\n\u001b[0;32m      4\u001b[0m wandb\u001b[38;5;241m.\u001b[39mfinish()\n",
      "\u001b[1;31mNameError\u001b[0m: name 'wandb' is not defined"
     ]
    }
   ],
   "source": [
    "wandb.log({\"images\": [wandb.Image(np.expand_dims(image, axis=2))\n",
    "                            for image in val_images]})\n",
    "\n",
    "wandb.finish()"
   ]
  },
  {
   "cell_type": "code",
   "execution_count": null,
   "metadata": {},
   "outputs": [],
   "source": []
  }
 ],
 "metadata": {
  "accelerator": "GPU",
  "colab": {
   "collapsed_sections": [
    "lwUb0KtemeK3",
    "USfu5WfonDPZ",
    "TiVoXehQnsOB",
    "75WCj0tmqIwo",
    "ASm9g8-_qsFR",
    "jgEJHI4CsUvY",
    "VmgFAVAFr_1u",
    "XNeF-P0gsit7",
    "wmjDDWLfHWyJ",
    "ezbWeXARO_C0"
   ],
   "name": "EMNIST NLP",
   "provenance": [],
   "toc_visible": true
  },
  "kernelspec": {
   "display_name": "Python 3 (ipykernel)",
   "language": "python",
   "name": "python3"
  },
  "language_info": {
   "codemirror_mode": {
    "name": "ipython",
    "version": 3
   },
   "file_extension": ".py",
   "mimetype": "text/x-python",
   "name": "python",
   "nbconvert_exporter": "python",
   "pygments_lexer": "ipython3",
   "version": "3.10.4"
  }
 },
 "nbformat": 4,
 "nbformat_minor": 1
}
