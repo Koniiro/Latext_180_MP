{
  "nbformat": 4,
  "nbformat_minor": 0,
  "metadata": {
    "colab": {
      "name": "MP - LaText_Amador_Bacani_Dela Calzada_Gonzales.ipynb",
      "provenance": []
    },
    "kernelspec": {
      "name": "python3",
      "display_name": "Python 3"
    },
    "language_info": {
      "name": "python"
    }
  },
  "cells": [
    {
      "cell_type": "markdown",
      "source": [
        "# Machine Problem: LaText\n",
        "\n",
        "Group: For Loop\n",
        "Memebers: Joshua Amador, Louise Denise Bacani, Zairra Mille Dela Calzada, Isaiah Nikolo Gonzales\n"
      ],
      "metadata": {
        "id": "0b5bcY1L3yjX"
      }
    },
    {
      "cell_type": "markdown",
      "source": [
        "Importing needed packages"
      ],
      "metadata": {
        "id": "1V84T-1q4MIY"
      }
    },
    {
      "cell_type": "code",
      "execution_count": null,
      "metadata": {
        "id": "AtWjGmi-3nGD"
      },
      "outputs": [],
      "source": [
        "import tensorflow as tf\n",
        "\n",
        "from tensorflow.keras.layers import *\n",
        "from tensorflow.keras.models import *\n",
        "import tensorflow_datasets as tfds\n",
        "import pandas as pd\n",
        "import numpy as np\n",
        "import matplotlib.pyplot as plt\n",
        "\n",
        "%matplotlib inline\n",
        "tfds.disable_progress_bar()\n",
        "\n",
        "import csv\n",
        "import string\n",
        "import pathlib\n",
        "import gzip\n",
        "from tqdm import tqdm\n",
        "import seaborn as sns\n",
        "from itertools import groupby\n",
        "from mlxtend.data import loadlocal_mnist\n",
        "from sklearn.model_selection import train_test_split\n",
        "import cv2\n",
        "from pathlib import Path\n",
        "data_folder = Path(\"data/\")\n",
        "from sklearn.utils import shuffle"
      ]
    },
    {
      "cell_type": "markdown",
      "source": [
        "## Import datasets wikisplit and emnist-byclass"
      ],
      "metadata": {
        "id": "FziNc6ls4__W"
      }
    },
    {
      "cell_type": "code",
      "source": [
        "!git clone https://github.com/google-research-datasets/wiki-split"
      ],
      "metadata": {
        "colab": {
          "base_uri": "https://localhost:8080/"
        },
        "id": "WIkykLfW4dPv",
        "outputId": "3b029cb3-b2e0-400c-b6f5-4f6c56405198"
      },
      "execution_count": null,
      "outputs": [
        {
          "output_type": "stream",
          "name": "stdout",
          "text": [
            "Cloning into 'wiki-split'...\n",
            "remote: Enumerating objects: 32, done.\u001b[K\n",
            "remote: Total 32 (delta 0), reused 0 (delta 0), pack-reused 32\u001b[K\n",
            "Unpacking objects: 100% (32/32), done.\n"
          ]
        }
      ]
    },
    {
      "cell_type": "code",
      "source": [
        "#load byclass dataset\n",
        "train_ds, validation_ds = tfds.load(\n",
        "    \"emnist/byclass\",\n",
        "    split=[\"train[:85%]\", \"train[85%:]\"],\n",
        "    as_supervised=True\n",
        ")"
      ],
      "metadata": {
        "colab": {
          "base_uri": "https://localhost:8080/"
        },
        "id": "dYeqSAWr4daO",
        "outputId": "d4f50160-c778-44e3-98d8-407da8dfd8ae"
      },
      "execution_count": null,
      "outputs": [
        {
          "output_type": "stream",
          "name": "stdout",
          "text": [
            "\u001b[1mDownloading and preparing dataset emnist/byclass/3.0.0 (download: 535.73 MiB, generated: Unknown size, total: 535.73 MiB) to /root/tensorflow_datasets/emnist/byclass/3.0.0...\u001b[0m\n",
            "Shuffling and writing examples to /root/tensorflow_datasets/emnist/byclass/3.0.0.incomplete2G9ZGP/emnist-train.tfrecord\n",
            "Shuffling and writing examples to /root/tensorflow_datasets/emnist/byclass/3.0.0.incomplete2G9ZGP/emnist-test.tfrecord\n",
            "\u001b[1mDataset emnist downloaded and prepared to /root/tensorflow_datasets/emnist/byclass/3.0.0. Subsequent calls will reuse this data.\u001b[0m\n"
          ]
        }
      ]
    },
    {
      "cell_type": "markdown",
      "source": [
        "Load sentences to local list"
      ],
      "metadata": {
        "id": "7WRF1Zdn5O8W"
      }
    },
    {
      "cell_type": "code",
      "source": [
        "raw_sentences = []  # empty list to store sentences\n",
        "with open(\"wiki-split/test.tsv\", \"r\", encoding=\"utf8\") as f:\n",
        "    reader = csv.reader(f, delimiter='\\t')  # read a tsv file\n",
        "    for row in tqdm(reader):\n",
        "        raw_sentences.extend(row[1].split(\"<::::>\"))\n",
        "print(\"Total Sentences: \", len(raw_sentences))"
      ],
      "metadata": {
        "colab": {
          "base_uri": "https://localhost:8080/"
        },
        "id": "VK23foVN5M6-",
        "outputId": "aadc3129-75f8-4848-8204-dd5f2f312440"
      },
      "execution_count": null,
      "outputs": [
        {
          "output_type": "stream",
          "name": "stderr",
          "text": [
            "5000it [00:00, 98613.86it/s]"
          ]
        },
        {
          "output_type": "stream",
          "name": "stdout",
          "text": [
            "Total Sentences:  10000\n"
          ]
        },
        {
          "output_type": "stream",
          "name": "stderr",
          "text": [
            "\n"
          ]
        }
      ]
    },
    {
      "cell_type": "markdown",
      "source": [
        "Remove punctuations as EMNIST does not contain punctuations"
      ],
      "metadata": {
        "id": "t4QFABuA5U4O"
      }
    },
    {
      "cell_type": "code",
      "source": [
        "import re\n",
        "\n",
        "sentences = []\n",
        "table = str.maketrans({key: None for key in string.punctuation})  # translation table\n",
        "\n",
        "for sentence in raw_sentences:\n",
        "    # remove punctuation and non-ascii characters\n",
        "    clean_sentence = re.sub('  +', ' ', sentence.translate(table)).\\\n",
        "                        encode(\"ascii\", 'ignore').decode()  \n",
        "    sentences.append(clean_sentence.strip())  # add to clean sentences\n",
        "    \n",
        "print(sentences[99], '\\n', raw_sentences[99])  # to verify"
      ],
      "metadata": {
        "colab": {
          "base_uri": "https://localhost:8080/"
        },
        "id": "TwXdmm2c5VL-",
        "outputId": "7ec2ea13-3847-4a8d-e806-16468f80fd38"
      },
      "execution_count": null,
      "outputs": [
        {
          "output_type": "stream",
          "name": "stdout",
          "text": [
            "He was was arrested and booked on charges of first degree murder and first degree robbery \n",
            "  He was was arrested and booked on charges of first - degree murder and first - degree robbery .\n"
          ]
        }
      ]
    },
    {
      "cell_type": "code",
      "source": [
        "MAPPING = ['0', '1', '2', '3', '4', '5', '6', '7', '8', '9','A', 'B', 'C', 'D', 'E', 'F', 'G', 'H', 'I', 'J', 'K', 'L', 'M', 'N', 'O', 'P', 'Q', 'R', 'S', 'T', 'U', 'V', 'W', 'X', 'Y', 'Z','a', 'b','c', 'd', 'e', 'f', 'g', 'h','i','j','k','l','m', 'n','o','p' ,'q', 'r','s', 't','u','v','w','x','y','z']\n",
        "print(len(MAPPING))"
      ],
      "metadata": {
        "colab": {
          "base_uri": "https://localhost:8080/"
        },
        "id": "2LwF3n-Y5wbB",
        "outputId": "cf3c5d86-e660-4240-b426-66824fa186c5"
      },
      "execution_count": null,
      "outputs": [
        {
          "output_type": "stream",
          "name": "stdout",
          "text": [
            "62\n"
          ]
        }
      ]
    },
    {
      "cell_type": "code",
      "source": [
        "AUTO = tf.data.experimental.AUTOTUNE\n",
        "BATCH_SIZE = 256\n",
        "\n",
        "## We are transposing to rotate the image by 90 deg clockwise making the images human friendly.\n",
        "def transpose(image, label):\n",
        "  image = tf.image.convert_image_dtype(image, dtype=tf.float32) # scale image pixels to [0,1]\n",
        "  image = tf.transpose(image, [1,0,2]) # transpose to get human friendly image, since rotation\n",
        "  return image, label\n",
        "\n",
        "trainloader = (\n",
        "    train_ds\n",
        "    .shuffle(1024)\n",
        "    .map(transpose, num_parallel_calls=AUTO)\n",
        "    .prefetch(AUTO)\n",
        ")"
      ],
      "metadata": {
        "id": "sX4Ux-nf7WIG"
      },
      "execution_count": null,
      "outputs": []
    },
    {
      "cell_type": "code",
      "source": [
        "plt.figure(figsize=(10, 10))\n",
        "n = 0\n",
        "for img, label in trainloader.take(25):\n",
        "    ax = plt.subplot(5, 5, n+1)\n",
        "    plt.imshow(tf.reshape(img, (28,28)), cmap='gray')\n",
        "    plt.title(MAPPING[int(label.numpy())])\n",
        "    plt.axis('off')\n",
        "    n+=1"
      ],
      "metadata": {
        "colab": {
          "base_uri": "https://localhost:8080/",
          "height": 591
        },
        "id": "1byqOjTo7WOO",
        "outputId": "bf790714-43c0-4d9c-e461-f6fa5144e2a2"
      },
      "execution_count": null,
      "outputs": [
        {
          "output_type": "display_data",
          "data": {
            "text/plain": [
              "<Figure size 720x720 with 25 Axes>"
            ],
            "image/png": "[encoded data removed]"
          },
          "metadata": {
            "needs_background": "light"
          }
        }
      ]
    },
    {
      "cell_type": "code",
      "source": [
        "IMAGES = []\n",
        "LABELS = []\n",
        "\n",
        "for img, label in tqdm(trainloader):\n",
        "    IMAGES.append(tf.reshape(img, (28,28)).numpy())\n",
        "    LABELS.append(label.numpy())\n",
        "\n",
        "IMAGES = np.array(IMAGES)\n",
        "LABELS = np.array(LABELS)"
      ],
      "metadata": {
        "colab": {
          "base_uri": "https://localhost:8080/"
        },
        "id": "QCaIGv7H7WT9",
        "outputId": "a706a7c7-0c45-4cec-b1f7-f8467ca48c6c"
      },
      "execution_count": null,
      "outputs": [
        {
          "output_type": "stream",
          "name": "stderr",
          "text": [
            "100%|██████████| 593242/593242 [07:21<00:00, 1342.33it/s]\n"
          ]
        }
      ]
    },
    {
      "cell_type": "code",
      "source": [
        "image_index = {}  # where key is the char and value is a list of IDs\n",
        "for idx, label in tqdm(enumerate(LABELS)):\n",
        "    \n",
        "    char = MAPPING[label]\n",
        "    if char in image_index:\n",
        "        # this character already exists\n",
        "        image_index[char].append(idx) # append index\n",
        "    else:\n",
        "        image_index[char] = [idx]  # initiate list with 1 item"
      ],
      "metadata": {
        "colab": {
          "base_uri": "https://localhost:8080/"
        },
        "id": "LVDSCIye8YlX",
        "outputId": "4fa80a97-51c1-419b-8b00-c49d2b4ac0b3"
      },
      "execution_count": null,
      "outputs": [
        {
          "output_type": "stream",
          "name": "stderr",
          "text": [
            "593242it [00:00, 1225284.19it/s]\n"
          ]
        }
      ]
    },
    {
      "cell_type": "code",
      "source": [
        "def get_sample_sentences(sentences_in=sentences, num_sentence=10):\n",
        "    # Get a defined number of sentences from the data\n",
        "    return np.random.choice(sentences_in, num_sentence)\n",
        "\n",
        "def get_generated_image(words, chars=IMAGES, index=image_index):\n",
        "    # words is string of char/numbers that needs to be converted into an image\n",
        "    # chars is a data set of images that need to be used to compose, usually pass in train['features'] in here\n",
        "    # index maps a character to indexes in the images, available as dictionary\n",
        "    height, width = IMAGES[0].shape # height and width of each character\n",
        "    length = len(words) # total number of characters in the image\n",
        "    \n",
        "    # create an empty array to store the data\n",
        "    image = np.zeros((height, width * length))\n",
        "    pos = 0  # starting index of the character\n",
        "    \n",
        "    for char in words:\n",
        "        if char is ' ':\n",
        "            pos += width # if space, move over\n",
        "        else:\n",
        "            if char in image_index:\n",
        "                # pick a random item from all images for that char\n",
        "                idx = np.random.choice(image_index[char])  \n",
        "                image[:, pos:(pos+width)] += chars[idx]\n",
        "            elif char.upper() in image_index:  # to remove characters from other languages\n",
        "                # for some characters, there is only upper case\n",
        "                idx = np.random.choice(image_index[char.upper()])  \n",
        "                image[:, pos:(pos+width)] += chars[idx]\n",
        "            \n",
        "            pos += width\n",
        "    \n",
        "    return image"
      ],
      "metadata": {
        "id": "JTi2CxtH8YrE",
        "colab": {
          "base_uri": "https://localhost:8080/",
          "height": 235
        },
        "outputId": "db642cdf-6c88-47f6-d740-1d635ca7f729"
      },
      "execution_count": null,
      "outputs": [
        {
          "output_type": "error",
          "ename": "NameError",
          "evalue": "ignored",
          "traceback": [
            "\u001b[0;31m---------------------------------------------------------------------------\u001b[0m",
            "\u001b[0;31mNameError\u001b[0m                                 Traceback (most recent call last)",
            "\u001b[0;32m<ipython-input-2-a5f610fd410e>\u001b[0m in \u001b[0;36m<module>\u001b[0;34m()\u001b[0m\n\u001b[0;32m----> 1\u001b[0;31m \u001b[0;32mdef\u001b[0m \u001b[0mget_sample_sentences\u001b[0m\u001b[0;34m(\u001b[0m\u001b[0msentences_in\u001b[0m\u001b[0;34m=\u001b[0m\u001b[0msentences\u001b[0m\u001b[0;34m,\u001b[0m \u001b[0mnum_sentence\u001b[0m\u001b[0;34m=\u001b[0m\u001b[0;36m10\u001b[0m\u001b[0;34m)\u001b[0m\u001b[0;34m:\u001b[0m\u001b[0;34m\u001b[0m\u001b[0;34m\u001b[0m\u001b[0m\n\u001b[0m\u001b[1;32m      2\u001b[0m     \u001b[0;31m# Get a defined number of sentences from the data\u001b[0m\u001b[0;34m\u001b[0m\u001b[0;34m\u001b[0m\u001b[0;34m\u001b[0m\u001b[0m\n\u001b[1;32m      3\u001b[0m     \u001b[0;32mreturn\u001b[0m \u001b[0mnp\u001b[0m\u001b[0;34m.\u001b[0m\u001b[0mrandom\u001b[0m\u001b[0;34m.\u001b[0m\u001b[0mchoice\u001b[0m\u001b[0;34m(\u001b[0m\u001b[0msentences_in\u001b[0m\u001b[0;34m,\u001b[0m \u001b[0mnum_sentence\u001b[0m\u001b[0;34m)\u001b[0m\u001b[0;34m\u001b[0m\u001b[0;34m\u001b[0m\u001b[0m\n\u001b[1;32m      4\u001b[0m \u001b[0;34m\u001b[0m\u001b[0m\n\u001b[1;32m      5\u001b[0m \u001b[0;32mdef\u001b[0m \u001b[0mget_generated_image\u001b[0m\u001b[0;34m(\u001b[0m\u001b[0mwords\u001b[0m\u001b[0;34m,\u001b[0m \u001b[0mchars\u001b[0m\u001b[0;34m=\u001b[0m\u001b[0mIMAGES\u001b[0m\u001b[0;34m,\u001b[0m \u001b[0mindex\u001b[0m\u001b[0;34m=\u001b[0m\u001b[0mimage_index\u001b[0m\u001b[0;34m)\u001b[0m\u001b[0;34m:\u001b[0m\u001b[0;34m\u001b[0m\u001b[0;34m\u001b[0m\u001b[0m\n",
            "\u001b[0;31mNameError\u001b[0m: name 'sentences' is not defined"
          ]
        }
      ]
    },
    {
      "cell_type": "code",
      "source": [
        "# Let's print a sample to see how it looks\n",
        "s = get_sample_sentences(sentences, 1)\n",
        "print(s)\n",
        "img = get_generated_image(s[0])\n",
        "plt.figure(figsize=(9,2))\n",
        "plt.imshow(img, cmap='gray')\n",
        "plt.show()"
      ],
      "metadata": {
        "colab": {
          "base_uri": "https://localhost:8080/",
          "height": 75
        },
        "id": "hfOOGEgG8Yvc",
        "outputId": "4d675daf-552b-46ec-a7aa-6b4598ce9f9f"
      },
      "execution_count": null,
      "outputs": [
        {
          "output_type": "stream",
          "name": "stdout",
          "text": [
            "['He forged an agreement with the Caribs so that they would not attack his ship']\n"
          ]
        },
        {
          "output_type": "display_data",
          "data": {
            "text/plain": [
              "<Figure size 648x144 with 1 Axes>"
            ],
            "image/png": "[encoded data removed]"
          },
          "metadata": {
            "needs_background": "light"
          }
        }
      ]
    },
    {
      "cell_type": "code",
      "source": [
        ""
      ],
      "metadata": {
        "id": "_ls4PfBrDszD"
      },
      "execution_count": null,
      "outputs": []
    },
    {
      "cell_type": "markdown",
      "source": [
        "Building a Sentence Training Set"
      ],
      "metadata": {
        "id": "61rkuFv4F1Xa"
      }
    },
    {
      "cell_type": "code",
      "source": [
        "train_sentences = sentences[:2000]\n",
        "test_sentences = sentences[2000:2500]\n",
        "\n",
        "\n",
        "def generate_sentences(texts, chars, \n",
        "                           index, num_variants=2, max_length=32):\n",
        "\n",
        "    \n",
        "    # total number of samples to generate\n",
        "    num_samples = len(texts) * num_variants\n",
        "    height, width = chars[0].shape  # shape of image\n",
        "    \n",
        "    # setup empty array of the images\n",
        "    images = np.zeros((num_samples, height, width * max_length), np.float64)\n",
        "    labels = []\n",
        "    \n",
        "    for i, item in tqdm(enumerate(texts)):\n",
        "        padded_item = item[0:max_length] if (len(item) > max_length) else item.ljust(max_length, ' ')\n",
        "        \n",
        "        for v in range(num_variants):\n",
        "            img = get_generated_image(padded_item, chars, index)\n",
        "            images[i*num_variants+v, :, :] += img\n",
        "            labels.append(padded_item)\n",
        "    \n",
        "    return images, labels"
      ],
      "metadata": {
        "id": "1rAelPe2Ds5S"
      },
      "execution_count": null,
      "outputs": []
    },
    {
      "cell_type": "code",
      "source": [
        "train_images, train_labels = generate_sentences(train_sentences, IMAGES, image_index)\n",
        "test_images, test_labels = generate_sentences(test_sentences, IMAGES, image_index)\n",
        "\n",
        "train_images, train_labels = shuffle(train_images, train_labels)\n",
        "test_images, test_labels = shuffle(test_images, test_labels)"
      ],
      "metadata": {
        "colab": {
          "base_uri": "https://localhost:8080/",
          "height": 235
        },
        "id": "VGiUbg8XJLAK",
        "outputId": "e7279297-791d-4db7-9bb8-ac81810fc02a"
      },
      "execution_count": null,
      "outputs": [
        {
          "output_type": "error",
          "ename": "NameError",
          "evalue": "ignored",
          "traceback": [
            "\u001b[0;31m---------------------------------------------------------------------------\u001b[0m",
            "\u001b[0;31mNameError\u001b[0m                                 Traceback (most recent call last)",
            "\u001b[0;32m<ipython-input-1-3d772e1b7131>\u001b[0m in \u001b[0;36m<module>\u001b[0;34m()\u001b[0m\n\u001b[0;32m----> 1\u001b[0;31m \u001b[0mtrain_images\u001b[0m\u001b[0;34m,\u001b[0m \u001b[0mtrain_labels\u001b[0m \u001b[0;34m=\u001b[0m \u001b[0mgenerate_sentences\u001b[0m\u001b[0;34m(\u001b[0m\u001b[0mtrain_sentences\u001b[0m\u001b[0;34m,\u001b[0m \u001b[0mIMAGES\u001b[0m\u001b[0;34m,\u001b[0m \u001b[0mimage_index\u001b[0m\u001b[0;34m)\u001b[0m\u001b[0;34m\u001b[0m\u001b[0;34m\u001b[0m\u001b[0m\n\u001b[0m\u001b[1;32m      2\u001b[0m \u001b[0mtest_images\u001b[0m\u001b[0;34m,\u001b[0m \u001b[0mtest_labels\u001b[0m \u001b[0;34m=\u001b[0m \u001b[0mgenerate_sentences\u001b[0m\u001b[0;34m(\u001b[0m\u001b[0mtest_sentences\u001b[0m\u001b[0;34m,\u001b[0m \u001b[0mIMAGES\u001b[0m\u001b[0;34m,\u001b[0m \u001b[0mimage_index\u001b[0m\u001b[0;34m)\u001b[0m\u001b[0;34m\u001b[0m\u001b[0;34m\u001b[0m\u001b[0m\n\u001b[1;32m      3\u001b[0m \u001b[0;34m\u001b[0m\u001b[0m\n\u001b[1;32m      4\u001b[0m \u001b[0mtrain_images\u001b[0m\u001b[0;34m,\u001b[0m \u001b[0mtrain_labels\u001b[0m \u001b[0;34m=\u001b[0m \u001b[0mshuffle\u001b[0m\u001b[0;34m(\u001b[0m\u001b[0mtrain_images\u001b[0m\u001b[0;34m,\u001b[0m \u001b[0mtrain_labels\u001b[0m\u001b[0;34m)\u001b[0m\u001b[0;34m\u001b[0m\u001b[0;34m\u001b[0m\u001b[0m\n\u001b[1;32m      5\u001b[0m \u001b[0mtest_images\u001b[0m\u001b[0;34m,\u001b[0m \u001b[0mtest_labels\u001b[0m \u001b[0;34m=\u001b[0m \u001b[0mshuffle\u001b[0m\u001b[0;34m(\u001b[0m\u001b[0mtest_images\u001b[0m\u001b[0;34m,\u001b[0m \u001b[0mtest_labels\u001b[0m\u001b[0;34m)\u001b[0m\u001b[0;34m\u001b[0m\u001b[0;34m\u001b[0m\u001b[0m\n",
            "\u001b[0;31mNameError\u001b[0m: name 'generate_sentences' is not defined"
          ]
        }
      ]
    },
    {
      "cell_type": "code",
      "source": [
        "idx=0\n",
        "print(train_labels[idx])\n",
        "plt.figure(figsize=(9,2))\n",
        "plt.imshow(train_images[idx], cmap='gray');\n",
        "plt.show()"
      ],
      "metadata": {
        "id": "L92mhShODs87"
      },
      "execution_count": null,
      "outputs": []
    },
    {
      "cell_type": "code",
      "source": [
        "# Now to save these models for easy loading\n",
        "pp = pathlib.Path('.') / 'sentences'\n",
        "pp.mkdir(exist_ok=True)  # create the directory\n",
        "\n",
        "np.save(pp / 'train_images', train_images)\n",
        "np.save(pp / 'test_images', test_images)\n",
        "np.save(pp / 'train_labels', train_labels)\n",
        "np.save(pp / 'test_labels', test_labels)"
      ],
      "metadata": {
        "id": "ki7i4xoxJOrv"
      },
      "execution_count": null,
      "outputs": []
    },
    {
      "cell_type": "code",
      "source": [
        "# create a dictionary of mapping from \n",
        "mappings = dict(zip(np.arange(0, 62), MAPPING))\n",
        "# add a space for spacing words\n",
        "mappings[63] = ' '\n",
        "# inverse: character as key and value as it's integer encoding\n",
        "inverse_mappings = {v: k for k, v in mappings.items()}"
      ],
      "metadata": {
        "id": "RDsm0M7SDtCr"
      },
      "execution_count": null,
      "outputs": []
    },
    {
      "cell_type": "code",
      "source": [
        "# now convert categorical labels from the sentences\n",
        "encode = lambda x: [inverse_mappings[xi] if xi in inverse_mappings else inverse_mappings[xi.upper()] for xi in x]\n",
        "decode = lambda x: [mappings[xi] for xi in x]\n",
        "\n",
        "train_labels_cat = np.array([encode(xi) for xi in train_labels])\n",
        "test_labels_cat = np.array([encode(xi) for xi in test_labels])\n",
        "\n",
        "# Verify the encoding/decoding\n",
        "print(train_labels[1])\n",
        "print(train_labels_cat.shape, train_labels_cat[1])\n",
        "print(decode(train_labels_cat[1]))"
      ],
      "metadata": {
        "colab": {
          "base_uri": "https://localhost:8080/"
        },
        "id": "cUutVag-F75Z",
        "outputId": "038539aa-6b91-4466-fea7-0a78371f610b"
      },
      "execution_count": null,
      "outputs": [
        {
          "output_type": "stream",
          "name": "stdout",
          "text": [
            "Bratislava Regio was abolished i\n",
            "(4000, 32) [11 53 36 55 44 54 47 36 57 36 63 27 40 42 44 50 63 58 36 54 63 36 37 50\n",
            " 47 44 54 43 40 39 63 44]\n",
            "['B', 'r', 'a', 't', 'i', 's', 'l', 'a', 'v', 'a', ' ', 'R', 'e', 'g', 'i', 'o', ' ', 'w', 'a', 's', ' ', 'a', 'b', 'o', 'l', 'i', 's', 'h', 'e', 'd', ' ', 'i']\n"
          ]
        }
      ]
    },
    {
      "cell_type": "code",
      "source": [
        "AUTO = tf.data.experimental.AUTOTUNE\n",
        "BATCH_SIZE = 64\n",
        "\n",
        "# This step will make sense after looking at the model\n",
        "def merge_image_label(image, label):\n",
        "    return (image, label), label\n",
        "\n",
        "trainloader = tf.data.Dataset.from_tensor_slices((train_images, train_labels_cat))\n",
        "testloader = tf.data.Dataset.from_tensor_slices((test_images, test_labels_cat))\n",
        "\n",
        "trainloader = (\n",
        "    trainloader\n",
        "    .shuffle(1024)\n",
        "    .map(merge_image_label, num_parallel_calls=AUTO)\n",
        "    .batch(BATCH_SIZE)\n",
        "    .prefetch(AUTO)\n",
        ")\n",
        "\n",
        "testloader = (\n",
        "    testloader\n",
        "    .map(merge_image_label, num_parallel_calls=AUTO)\n",
        "    .batch(BATCH_SIZE)\n",
        "    .prefetch(AUTO)\n",
        ")"
      ],
      "metadata": {
        "id": "r5dLbop8F7-q"
      },
      "execution_count": null,
      "outputs": []
    },
    {
      "cell_type": "code",
      "source": [
        "\n",
        "IMG_H, IMG_W = train_images[1].shape\n",
        "\n",
        "OUTPUT_LENGTH = 32  \n",
        "\n",
        "NUM_CLASSES = 64 "
      ],
      "metadata": {
        "id": "07-mEujwF8Co"
      },
      "execution_count": null,
      "outputs": []
    },
    {
      "cell_type": "code",
      "source": [
        "PATCH_WIDTH = 20\n",
        "PATCH_STRIDE = 14\n",
        "def extract_patches(image):\n",
        "    kernel = [1, 1, PATCH_WIDTH, 1]\n",
        "    strides = [1, 1, PATCH_STRIDE, 1]\n",
        "    patches = tf.image.extract_patches(image, kernel, strides, [1, 1, 1, 1], 'VALID')\n",
        "    patches = tf.transpose(patches, (0, 2, 1, 3))\n",
        "    patches = tf.expand_dims(patches, -1)\n",
        "    return patches"
      ],
      "metadata": {
        "id": "Mm4JhDh_LW93"
      },
      "execution_count": null,
      "outputs": []
    },
    {
      "cell_type": "code",
      "source": [
        "def ImagePatchEncoder():\n",
        "  patched_inputs = Input(shape=(IMG_H, PATCH_WIDTH, 1))\n",
        "  x = Conv2D(32, kernel_size=(3, 3), activation='relu')(patched_inputs)\n",
        "  x = Conv2D(64, kernel_size=(3, 3), activation='relu')(x)\n",
        "  x = MaxPooling2D(pool_size=(2, 2))(x)\n",
        "  x = Dropout(0.2)(x)\n",
        "  flattened_outputs = Flatten()(x)\n",
        "\n",
        "  return Model(inputs=patched_inputs, outputs=flattened_outputs, name='base')\n",
        "\n",
        "tf.keras.backend.clear_session()\n",
        "image_patch_encoder = ImagePatchEncoder()\n",
        "image_patch_encoder.summary()"
      ],
      "metadata": {
        "colab": {
          "base_uri": "https://localhost:8080/"
        },
        "id": "lbExt-V1LXJO",
        "outputId": "f15c3557-e23d-4e30-ac46-0ca44f2b423c"
      },
      "execution_count": null,
      "outputs": [
        {
          "output_type": "stream",
          "name": "stdout",
          "text": [
            "Model: \"base\"\n",
            "_________________________________________________________________\n",
            " Layer (type)                Output Shape              Param #   \n",
            "=================================================================\n",
            " input_1 (InputLayer)        [(None, 28, 20, 1)]       0         \n",
            "                                                                 \n",
            " conv2d (Conv2D)             (None, 26, 18, 32)        320       \n",
            "                                                                 \n",
            " conv2d_1 (Conv2D)           (None, 24, 16, 64)        18496     \n",
            "                                                                 \n",
            " max_pooling2d (MaxPooling2D  (None, 12, 8, 64)        0         \n",
            " )                                                               \n",
            "                                                                 \n",
            " dropout (Dropout)           (None, 12, 8, 64)         0         \n",
            "                                                                 \n",
            " flatten (Flatten)           (None, 6144)              0         \n",
            "                                                                 \n",
            "=================================================================\n",
            "Total params: 18,816\n",
            "Trainable params: 18,816\n",
            "Non-trainable params: 0\n",
            "_________________________________________________________________\n"
          ]
        }
      ]
    },
    {
      "cell_type": "code",
      "source": [
        "class CTCLayer(Layer):\n",
        "  def __init__(self, name=None):\n",
        "\n",
        "      super().__init__(name=name)\n",
        "      self.loss_fn = tf.keras.backend.ctc_batch_cost\n",
        "\n",
        "  def call(self, y_true, y_pred):\n",
        "      # Compute the training-time loss value and add it\n",
        "      # to the layer using `self.add_loss()`.\n",
        "\n",
        "      batch_len = tf.cast(tf.shape(y_true)[0], dtype=\"int64\")\n",
        "      input_length = tf.cast(tf.shape(y_pred)[1], dtype=\"int64\")\n",
        "      label_length = tf.cast(tf.shape(y_true)[1], dtype=\"int64\")\n",
        "\n",
        "      input_length = input_length * tf.ones(shape=(batch_len, 1), dtype=\"int64\")\n",
        "      label_length = label_length * tf.ones(shape=(batch_len, 1), dtype=\"int64\")\n",
        "\n",
        "      loss = self.loss_fn(y_true, y_pred, input_length, label_length)\n",
        "      self.add_loss(loss)\n",
        "\n",
        "      # At test time, just return the computed predictions\n",
        "      return y_pred"
      ],
      "metadata": {
        "id": "DpLpwuvzLs43"
      },
      "execution_count": null,
      "outputs": []
    },
    {
      "cell_type": "code",
      "source": [
        "def ImagetoSequence():\n",
        "  # IMAGE ENCODER #\n",
        "  labels = Input(name=\"label\", shape=(None,), dtype=\"float32\")\n",
        "  image_input = Input(shape=(IMG_H, IMG_W), name=\"cnn_input\")\n",
        "  # reshape to add dimensions\n",
        "  image_reshaped = Reshape((IMG_H, IMG_W, 1))(image_input)\n",
        "  # extract patches of images\n",
        "  image_patches = Lambda(extract_patches)(image_reshaped)\n",
        "  # get CNN backbone architecture to get embedding for each patch\n",
        "  image_patch_encoder = ImagePatchEncoder()\n",
        "  # Wrapper allows to apply a layer to every temporal slice of an input.\n",
        "  time_wrapper = TimeDistributed(image_patch_encoder)(image_patches)\n",
        "\n",
        "  # RECURRENT NETWORK #\n",
        "  lstm_out = LSTM(128, return_sequences=True, name=\"lstm\")(time_wrapper)\n",
        "  softmax_output = Dense(NUM_CLASSES, activation='softmax', name=\"lstm_softmax\")(lstm_out)\n",
        "  # \n",
        "  output = CTCLayer(name=\"ctc_loss\")(labels, softmax_output)\n",
        "\n",
        "  return Model([image_input, labels], output)"
      ],
      "metadata": {
        "id": "rhqPFYXtLtLm"
      },
      "execution_count": null,
      "outputs": []
    },
    {
      "cell_type": "code",
      "source": [
        "tf.keras.backend.clear_session()\n",
        "model = ImagetoSequence()\n",
        "model.summary()"
      ],
      "metadata": {
        "colab": {
          "base_uri": "https://localhost:8080/"
        },
        "id": "la_OxAXwLtN9",
        "outputId": "9ab7a74d-71c7-47d6-aa95-519662284233"
      },
      "execution_count": null,
      "outputs": [
        {
          "output_type": "stream",
          "name": "stdout",
          "text": [
            "Model: \"model\"\n",
            "__________________________________________________________________________________________________\n",
            " Layer (type)                   Output Shape         Param #     Connected to                     \n",
            "==================================================================================================\n",
            " cnn_input (InputLayer)         [(None, 28, 896)]    0           []                               \n",
            "                                                                                                  \n",
            " reshape (Reshape)              (None, 28, 896, 1)   0           ['cnn_input[0][0]']              \n",
            "                                                                                                  \n",
            " lambda (Lambda)                (None, 63, 28, 20,   0           ['reshape[0][0]']                \n",
            "                                1)                                                                \n",
            "                                                                                                  \n",
            " time_distributed (TimeDistribu  (None, 63, 6144)    18816       ['lambda[0][0]']                 \n",
            " ted)                                                                                             \n",
            "                                                                                                  \n",
            " lstm (LSTM)                    (None, 63, 128)      3211776     ['time_distributed[0][0]']       \n",
            "                                                                                                  \n",
            " label (InputLayer)             [(None, None)]       0           []                               \n",
            "                                                                                                  \n",
            " lstm_softmax (Dense)           (None, 63, 65)       8385        ['lstm[0][0]']                   \n",
            "                                                                                                  \n",
            " ctc_loss (CTCLayer)            (None, 63, 65)       0           ['label[0][0]',                  \n",
            "                                                                  'lstm_softmax[0][0]']           \n",
            "                                                                                                  \n",
            "==================================================================================================\n",
            "Total params: 3,238,977\n",
            "Trainable params: 3,238,977\n",
            "Non-trainable params: 0\n",
            "__________________________________________________________________________________________________\n"
          ]
        }
      ]
    },
    {
      "cell_type": "code",
      "source": [
        "model.compile(tf.keras.optimizers.Adam())"
      ],
      "metadata": {
        "id": "Q53XP2BLLtQN"
      },
      "execution_count": 108,
      "outputs": []
    },
    {
      "cell_type": "code",
      "source": [
        "early_stopper = tf.keras.callbacks.EarlyStopping(\n",
        "    monitor='val_loss', min_delta=0, patience=10, verbose=0, mode='auto', restore_best_weights=True)"
      ],
      "metadata": {
        "id": "HIvArgG-MZ_u"
      },
      "execution_count": 109,
      "outputs": []
    },
    {
      "cell_type": "code",
      "source": [
        "_ = model.fit(trainloader,  \n",
        "                    validation_data=testloader,\n",
        "                    epochs=10,\n",
        "                    callbacks=[\n",
        "                               early_stopper])"
      ],
      "metadata": {
        "colab": {
          "base_uri": "https://localhost:8080/"
        },
        "id": "TrUTPR1yLtSd",
        "outputId": "a60ea430-58c7-4380-99c0-a2a5d9b6c15e"
      },
      "execution_count": null,
      "outputs": [
        {
          "output_type": "stream",
          "name": "stdout",
          "text": [
            "Epoch 1/10\n",
            "63/63 [==============================] - 525s 8s/step - loss: 14.4811 - val_loss: 14.8622\n",
            "Epoch 2/10\n",
            "63/63 [==============================] - 516s 8s/step - loss: 12.2310 - val_loss: 13.3025\n",
            "Epoch 3/10\n",
            "63/63 [==============================] - 518s 8s/step - loss: 10.7713 - val_loss: 12.1205\n",
            "Epoch 4/10\n",
            "63/63 [==============================] - 519s 8s/step - loss: 9.6820 - val_loss: 11.2282\n",
            "Epoch 5/10\n",
            "63/63 [==============================] - 510s 8s/step - loss: 8.7724 - val_loss: 10.4267\n",
            "Epoch 6/10\n",
            "63/63 [==============================] - 511s 8s/step - loss: 8.0195 - val_loss: 9.8614\n",
            "Epoch 7/10\n",
            "63/63 [==============================] - 510s 8s/step - loss: 7.4056 - val_loss: 9.3552\n",
            "Epoch 8/10\n",
            "63/63 [==============================] - 509s 8s/step - loss: 6.8472 - val_loss: 9.0678\n",
            "Epoch 9/10\n",
            "14/63 [=====>........................] - ETA: 6:14 - loss: 6.4544"
          ]
        }
      ]
    },
    {
      "cell_type": "code",
      "source": [
        "model.evaluate(X, Y)"
      ],
      "metadata": {
        "id": "jJOJM8SWXI3e"
      },
      "execution_count": null,
      "outputs": []
    }
  ]
}