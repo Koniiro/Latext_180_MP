{
 "cells": [
  {
   "cell_type": "markdown",
   "id": "46619f04",
   "metadata": {},
   "source": [
    "# Machine Problem: LaText"
   ]
  },
  {
   "cell_type": "code",
   "execution_count": 1,
   "id": "e68811f8",
   "metadata": {},
   "outputs": [],
   "source": [
    "\n",
    "import numpy as np\n",
    "import pandas as pd\n",
    "import scipy.io as sio\n",
    "from scipy import optimize\n",
    "\n",
    "import matplotlib.pyplot as plt\n",
    "import seaborn as sns\n",
    "from IPython.display import display, clear_output\n",
    "from PIL import Image\n",
    "from mlxtend.data import loadlocal_mnist\n",
    "from pathlib import Path\n",
    "data_folder = Path(\"data/\")\n",
    "\n",
    "from sklearn.model_selection import train_test_split\n",
    "import cv2\n",
    "\n",
    "#keras\n",
    "from keras.models import Sequential\n",
    "from keras.layers import Dense, Dropout, Flatten\n",
    "from keras.layers import Conv2D, MaxPooling2D\n",
    "from keras.utils import np_utils\n",
    "import sklearn.metrics as metrics\n",
    "from keras.callbacks import History \n",
    "#--------------------------------------------------------------------------------------------\n",
    "# Settings\n",
    "#--------------------------------------------------------------------------------------------\n",
    "sns.set(font_scale=1.5)\n",
    "sns.set_style(\"dark\")\n",
    "np.set_printoptions(precision=4, suppress=True)\n"
   ]
  },
  {
   "cell_type": "code",
   "execution_count": 2,
   "id": "e58ff594",
   "metadata": {},
   "outputs": [],
   "source": [
    "def sigmoid(z):\n",
    "  \"\"\" Sigmoid function \"\"\"\n",
    "  return 1.0 / (1.0+np.exp(-z))\n",
    "\n",
    "def d_sigmoid(z):\n",
    "  \"\"\" Sigmoid derivative function \"\"\"\n",
    "  return sigmoid(z) * (1-sigmoid(z));\n",
    "\n",
    "\n",
    "\n",
    "def hot_encode(y):\n",
    "  \"\"\" Convert each target into a multiclass vector for the ANN output layer \n",
    "  Note how the following labels are converted:\n",
    "    target=1 -> [1 0 0 0 0 0 0 0 0 0]\n",
    "    ...\n",
    "    target=9 -> [0 0 0 0 0 0 0 0 1 0]\n",
    "    target=0 -> [0 0 0 0 0 0 0 0 0 1]\n",
    "  \"\"\"\n",
    "  m = len(y)\n",
    "  y_hot = np.zeros((m, np.max(y)+1))\n",
    "  y_hot[np.arange(m), y.T] = 1\n",
    "  y_hot = y_hot.T\n",
    "  y_hot = np.roll(y_hot, -1, axis=0) # Only for the exercise and quiz\n",
    "  return y_hot\n"
   ]
  },
  {
   "cell_type": "code",
   "execution_count": 19,
   "id": "16400a46",
   "metadata": {},
   "outputs": [
    {
     "name": "stdout",
     "output_type": "stream",
     "text": [
      "Trainx: (697932, 784), Test: (116323, 784), Map: (62,)\n",
      "Trainy: (697932,), Testy: (116323,), Map: (62,)\n"
     ]
    },
    {
     "ename": "AttributeError",
     "evalue": "'numpy.ndarray' object has no attribute 'nunique'",
     "output_type": "error",
     "traceback": [
      "\u001b[1;31m---------------------------------------------------------------------------\u001b[0m",
      "\u001b[1;31mAttributeError\u001b[0m                            Traceback (most recent call last)",
      "Input \u001b[1;32mIn [19]\u001b[0m, in \u001b[0;36m<cell line: 21>\u001b[1;34m()\u001b[0m\n\u001b[0;32m     19\u001b[0m \u001b[38;5;28mprint\u001b[39m(\u001b[38;5;124m\"\u001b[39m\u001b[38;5;124mTrainx: \u001b[39m\u001b[38;5;132;01m%s\u001b[39;00m\u001b[38;5;124m, Test: \u001b[39m\u001b[38;5;132;01m%s\u001b[39;00m\u001b[38;5;124m, Map: \u001b[39m\u001b[38;5;132;01m%s\u001b[39;00m\u001b[38;5;124m\"\u001b[39m \u001b[38;5;241m%\u001b[39m(X_train\u001b[38;5;241m.\u001b[39mshape, X_test\u001b[38;5;241m.\u001b[39mshape, mapp\u001b[38;5;241m.\u001b[39mshape))\n\u001b[0;32m     20\u001b[0m \u001b[38;5;28mprint\u001b[39m(\u001b[38;5;124m\"\u001b[39m\u001b[38;5;124mTrainy: \u001b[39m\u001b[38;5;132;01m%s\u001b[39;00m\u001b[38;5;124m, Testy: \u001b[39m\u001b[38;5;132;01m%s\u001b[39;00m\u001b[38;5;124m, Map: \u001b[39m\u001b[38;5;132;01m%s\u001b[39;00m\u001b[38;5;124m\"\u001b[39m \u001b[38;5;241m%\u001b[39m(y_train\u001b[38;5;241m.\u001b[39mshape, y_test\u001b[38;5;241m.\u001b[39mshape, mapp\u001b[38;5;241m.\u001b[39mshape))\n\u001b[1;32m---> 21\u001b[0m \u001b[38;5;28mprint\u001b[39m(\u001b[43my_train\u001b[49m\u001b[38;5;241;43m.\u001b[39;49m\u001b[43mnunique\u001b[49m)\n",
      "\u001b[1;31mAttributeError\u001b[0m: 'numpy.ndarray' object has no attribute 'nunique'"
     ]
    }
   ],
   "source": [
    "X_train, y_train = loadlocal_mnist(images_path=data_folder/\"emnist-byclass-train-images-idx3-ubyte\",\n",
    "                                   labels_path=data_folder/\"emnist-byclass-train-labels-idx1-ubyte\")\n",
    "X_test, y_test   = loadlocal_mnist(images_path=data_folder/\"emnist-byclass-test-images-idx3-ubyte\",\n",
    "                                   labels_path=data_folder/\"emnist-byclass-test-labels-idx1-ubyte\")\n",
    "mapp = pd.read_csv(\"data/emnist-byclass-mapping.txt\", delimiter = ' ', \\\n",
    "                   index_col=0, header=None).squeeze(\"columns\")\n",
    "y_train_hot = hot_encode(y_train)\n",
    "y_train_hot = np.roll(y_train_hot, 1, axis=0)\n",
    "y_test_hot = hot_encode(y_test)\n",
    "# Constants\n",
    "HEIGHT = 28\n",
    "WIDTH = 28\n",
    "m           = X_train.shape[0]  # Number of samples\n",
    "ch_n_input  = X_train.shape[1]  # Image pixel count\n",
    "img_width   = np.sqrt(ch_n_input).astype(int)\n",
    "img_height  = np.sqrt(ch_n_input).astype(int)\n",
    "n_hidden = 50          # 25 hidden units\n",
    "n_output = 10          # 10 labels, from 1 to 10   \n",
    "print(\"Trainx: %s, Test: %s, Map: %s\" %(X_train.shape, X_test.shape, mapp.shape))\n",
    "print(\"Trainy: %s, Testy: %s, Map: %s\" %(y_train.shape, y_test.shape, mapp.shape))\n"
   ]
  },
  {
   "cell_type": "code",
   "execution_count": 9,
   "id": "6cd71626",
   "metadata": {},
   "outputs": [],
   "source": [
    "def rotate(image):\n",
    "    image = image.reshape([HEIGHT, WIDTH])\n",
    "    image = np.fliplr(image)\n",
    "    image = np.rot90(image)\n",
    "    return image"
   ]
  },
  {
   "cell_type": "code",
   "execution_count": 10,
   "id": "30836cb5",
   "metadata": {},
   "outputs": [
    {
     "name": "stdout",
     "output_type": "stream",
     "text": [
      "train_x: (697932, 28, 28)\n",
      "test_x: (116323, 28, 28)\n"
     ]
    }
   ],
   "source": [
    "# Flip and rotate image\n",
    "train_x = np.asarray(X_train)\n",
    "train_x = np.apply_along_axis(rotate, 1, train_x)\n",
    "print (\"train_x:\",train_x.shape)\n",
    "\n",
    "test_x = np.asarray(X_test)\n",
    "test_x = np.apply_along_axis(rotate, 1, test_x)\n",
    "print (\"test_x:\",test_x.shape)"
   ]
  },
  {
   "cell_type": "code",
   "execution_count": 11,
   "id": "8e2aa22a",
   "metadata": {},
   "outputs": [],
   "source": [
    "# Normalise\n",
    "train_x = train_x.astype('float32')\n",
    "train_x /= 255\n",
    "test_x = test_x.astype('float32')\n",
    "test_x /= 255"
   ]
  },
  {
   "cell_type": "code",
   "execution_count": 18,
   "id": "fc5d5476",
   "metadata": {},
   "outputs": [
    {
     "data": {
      "image/png": "[encoded data removed]",
      "text/plain": [
       "<Figure size 432x288 with 9 Axes>"
      ]
     },
     "metadata": {
      "needs_background": "light"
     },
     "output_type": "display_data"
    }
   ],
   "source": [
    "# plot image\n",
    "for i in range(100, 109):\n",
    "    plt.subplot(330 + (i+1))\n",
    "    plt.imshow(train_x[i], cmap=plt.get_cmap('gray'))\n",
    "    plt.title(chr(mapp[y_train[i]]))"
   ]
  },
  {
   "cell_type": "markdown",
   "id": "fb420d26",
   "metadata": {},
   "source": [
    "### Building a Model"
   ]
  },
  {
   "cell_type": "code",
   "execution_count": null,
   "id": "e30fbca4",
   "metadata": {},
   "outputs": [],
   "source": []
  }
 ],
 "metadata": {
  "kernelspec": {
   "display_name": "Python 3 (ipykernel)",
   "language": "python",
   "name": "python3"
  },
  "language_info": {
   "codemirror_mode": {
    "name": "ipython",
    "version": 3
   },
   "file_extension": ".py",
   "mimetype": "text/x-python",
   "name": "python",
   "nbconvert_exporter": "python",
   "pygments_lexer": "ipython3",
   "version": "3.10.4"
  }
 },
 "nbformat": 4,
 "nbformat_minor": 5
}
